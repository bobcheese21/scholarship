{
 "cells": [
  {
   "cell_type": "code",
   "execution_count": 1,
   "metadata": {},
   "outputs": [
    {
     "name": "stderr",
     "output_type": "stream",
     "text": [
      "/Library/Frameworks/Python.framework/Versions/3.6/lib/python3.6/site-packages/pandas/compat/_optional.py:106: UserWarning: Pandas requires version '1.2.1' or newer of 'bottleneck' (version '1.0.0' currently installed).\n",
      "  warnings.warn(msg, UserWarning)\n"
     ]
    }
   ],
   "source": [
    "import PyPDF2 as ppy\n",
    "from addClass import main as ac\n",
    "from addStudent import main as ass\n",
    "from addStudClass import main as asc\n",
    "import pandas as pd\n",
    "import textract\n",
    "import pymysql"
   ]
  },
  {
   "cell_type": "code",
   "execution_count": 2,
   "metadata": {},
   "outputs": [],
   "source": [
    "pdf = ppy.PdfFileReader(\"./Transcript for Robi.pdf\")\n",
    "pdf2 = ppy.PdfFileReader(\"UWUnofficialTranscript.pdf\")\n",
    "text = textract.process(\"UWUnofficialTranscript.pdf\")\n",
    "otherPDF = text.decode(\"utf-8\")\n"
   ]
  },
  {
   "cell_type": "code",
   "execution_count": 9,
   "metadata": {},
   "outputs": [
    {
     "name": "stdout",
     "output_type": "stream",
     "text": [
      "   Quarter Department ClassNum              ClassTitle Grade  Year\n",
      "0   AUTUMN        CSE      142      COMPUTER PRGRMNG I   3.5  2016\n",
      "1   AUTUMN        GEN      199          UNIV COMMUNITY    CR  2016\n",
      "2   AUTUMN       INFO      200      INTELL FOUNDATIONS   3.2  2016\n",
      "3   AUTUMN       PHIL      120          INTRO TO LOGIC   4.0  2016\n",
      "4   WINTER       CLAS      430     GRK & ROM MYTHOLOGY   3.9  2017\n",
      "5   WINTER       ENGL      131     COMPOSITN: EXPOSITN   3.7  2017\n",
      "6   WINTER       MATH      126      CALC ANYL GEOM III   3.2  2017\n",
      "7   WINTER       PHIL      335        PLATO'S REPUBLIC   3.9  2017\n",
      "8   SPRING       ECON      200         INTRO MICROECON   3.8  2017\n",
      "9   SPRING       MATH      308          MATRIX ALGEBRA   3.7  2017\n",
      "10  SPRING       PHIL      240       W-INTRO TO ETHICS   3.7  2017\n",
      "11  AUTUMN      ACCTG      215     ACCTG & FIN REPRTNG   4.0  2017\n",
      "12  AUTUMN       ECON      201         INTRO MACROECON   3.7  2017\n",
      "13  AUTUMN       JSIS      200   W-STATES & CAPITALISM   3.7  2017\n",
      "14  WINTER       INFO      201        TECH FOUNDATIONS   3.9  2018\n",
      "15  WINTER       PHIL      322     W-MODERN PHILOSOPHY   4.0  2018\n",
      "16  WINTER       STAT      311  DL-ELEMNTS STAT METHOD   3.3  2018\n",
      "17  SPRING      ACCTG      225        MANAGERIAL ACCTG   3.4  2018\n",
      "18  SPRING       ECON      300     INTERMED MICRO-ECON   3.8  2018\n",
      "19  SPRING       PHIL      406    W-PHIL TOPICS IN FEM   3.2  2018\n",
      "20  AUTUMN        CSE      143     COMPUTER PRGRMNG II   2.7  2018\n",
      "21  AUTUMN       ECON      301     INTERMED MACRO-ECON   3.7  2018\n",
      "22  AUTUMN       INFO      310     INFO ASSR & CYBRSEC   4.0  2018\n",
      "23  WINTER       ECON      472     INTERNATIONAL MACRO   3.3  2019\n",
      "24  WINTER       ECON      483         ECONOMETRIC APP   3.3  2019\n",
      "25  WINTER       INFO      340         CLIENT-SIDE DEV   3.6  2019\n",
      "26  SPRING       ECON      482     ECONOMETRIC THRY&PR   3.5  2019\n",
      "27  SPRING      ENTRE      432     SOFTWARE ENTRPRNSHP   3.9  2019\n",
      "28  SPRING       INFO      380      IS ANALYSIS & DSGN   4.0  2019\n",
      "29  AUTUMN      AMATH      352     LINR ALG & NUM ANLY   2.6  2019\n",
      "30  AUTUMN        CSE      373     DATA STRUC/ALGORITH   2.9  2019\n",
      "31  AUTUMN       ECON      410        ECON OF NETWORKS   3.9  2019\n",
      "32  AUTUMN      GREEK      101      INTRODUCTORY GREEK   3.5  2019\n",
      "33  WINTER       ECON      464      W-FINANCIAL CRISIS   3.7  2020\n",
      "34  WINTER       INFO      300        RESEARCH METHODS   3.7  2020\n",
      "35  WINTER       INFO      330      DB & DATA MODELING   3.6  2020\n",
      "36  WINTER       INFO      499               IND STUDY   3.6  2020\n",
      "37  SPRING       ECON      425      TPCS MONETARY ECON    IP  2020\n",
      "38  SPRING       PHIL      149     EXISTENTIALISM&FILM    IP  2020\n",
      "39  SPRING       INFO      360          DESIGN METHODS    IP  2020\n",
      "1636389\n"
     ]
    }
   ],
   "source": [
    "data = getClasses(pdf2)\n",
    "studentID = data['studentID']\n",
    "data = data['data']\n",
    "print(data)\n",
    "print(studentID)"
   ]
  },
  {
   "cell_type": "code",
   "execution_count": 6,
   "metadata": {},
   "outputs": [],
   "source": [
    "def commitData(data, studentID):\n",
    "    classes=data\n",
    "#     studentID = data['studentID']\n",
    "#     if (studentID == userID):     \n",
    "    row = data.loc[0]\n",
    "    classesBatch = []\n",
    "    for i in range(len(data)):\n",
    "        row = data.loc[i]\n",
    "        classesBatch.append((row['Department'], row['ClassNum'], row['ClassTitle']))\n",
    "    ac.main(classesBatch)\n",
    "    \n",
    "    row = data.loc[0]\n",
    "    studClassBatch = []\n",
    "    for i in range(len(data)):\n",
    "        row = data.loc[i]\n",
    "        studClassBatch.append((studentID, row['Quarter'], row['ClassNum'], row['Department'], row['ClassTitle'], row['Year']))\n",
    "    asc.main(studClassBatch)\n",
    "\n",
    "    "
   ]
  },
  {
   "cell_type": "code",
   "execution_count": 3,
   "metadata": {},
   "outputs": [],
   "source": [
    "def mergePages(pages):\n",
    "    breaks = []\n",
    "    total = []\n",
    "    # Look for the word 'Page' on each page \n",
    "    # assumptions: there is only one occurance\n",
    "    # no valuable data preceds the occurance of 'Page'\n",
    "    curQtr = \"\"\n",
    "    studentNumber = \"\"\n",
    "    for i in range(pages.getNumPages()):\n",
    "        page = pages.getPage(i)\n",
    "        parsed = page.extractText().split('\\n')\n",
    "        studentNumber = parsed[8]\n",
    "        for i,x in enumerate(parsed):\n",
    "            if \"Page\" in x:\n",
    "                breaks = i\n",
    "            if 'CURRENTLY ENROLLED' in x:\n",
    "                curQtr = x.split('(')[1].split(')')[0].replace('QUARTER, ', \"\")        \n",
    "        useful = parsed[breaks + 1: ]\n",
    "        total.extend(useful)\n",
    "    return {'total': total, 'curQtr': curQtr.strip(), 'studentID': studentNumber}"
   ]
  },
  {
   "cell_type": "code",
   "execution_count": 4,
   "metadata": {},
   "outputs": [],
   "source": [
    "def getClasses(pdf):\n",
    "    information = mergePages(pdf)\n",
    "    parsed = information['total']\n",
    "    curQtr = information['curQtr']\n",
    "    studentID = information['studentID']\n",
    "    durations = pd.DataFrame(columns = ['Quarter', 'Year', 'StatusWhile', 'index'])\n",
    "    count = 0\n",
    "    for i, x in enumerate(parsed):\n",
    "        if 'AUTUMN' in x or 'WINTER' in x or 'SPRING' in x and 'D E S T R O Y' not in x:\n",
    "            row = {'Quarter': x.split()[0], 'Year': x.split()[1], 'StatusWhile' : x.split()[2], 'index': i}\n",
    "    #         y = x.split()\n",
    "            durations = durations.append(row, ignore_index=True)\n",
    "            count = count +1\n",
    "\n",
    "    classes = pd.DataFrame(columns = ['Quarter', 'Department', 'ClassNum', 'ClassTitle', 'Grade'])\n",
    "    for i in durations.iloc:\n",
    "        ind = i['index'] + 1\n",
    "        cur = parsed[ind]\n",
    "        while 'QTR' not in cur and 'EARNED' not in cur and 'D E S T R O Y' not in cur and ind < len(parsed):\n",
    "            if 'GEN ST' in cur:\n",
    "                cur = cur.replace('GEN ST' ,\"GEN\")\n",
    "            curSplit = cur.split()\n",
    "            desc = \"\"\n",
    "            grade =  curSplit[-1]\n",
    "            for j in range(2, len(curSplit) - 2):\n",
    "                desc = desc + \" \" + curSplit[j]\n",
    "            if curQtr == str(i['Quarter'] + \" \" +i['Year']):\n",
    "                desc = \"\"\n",
    "                for j in range(2, len(curSplit) - 1):\n",
    "                    desc = desc + \" \" + curSplit[j]\n",
    "                grade = \"IP\"\n",
    "            row = {'Quarter': i['Quarter'].strip(), 'Year': i['Year'].strip(), 'Grade': grade.strip(), 'Department': curSplit[0].strip(), 'ClassNum': curSplit[1].strip(), 'ClassTitle' : desc.strip() }\n",
    "            classes = classes.append(row, ignore_index=True)\n",
    "            ind = ind + 1\n",
    "            cur = parsed[ind]\n",
    "            \n",
    "    return {'data': classes, 'studentID': studentID}"
   ]
  },
  {
   "cell_type": "code",
   "execution_count": 11,
   "metadata": {},
   "outputs": [
    {
     "name": "stderr",
     "output_type": "stream",
     "text": [
      "Warning: (1062, \"Duplicate entry '142-CSE-COMPUTER PRGRMNG I' for key 'tbl_classes.uc_norepeat'\") [cursors.py:170]\n",
      "Warning: (1062, \"Duplicate entry '199-GEN-UNIV COMMUNITY' for key 'tbl_classes.uc_norepeat'\") [cursors.py:170]\n",
      "Warning: (1062, \"Duplicate entry '200-INFO-INTELL FOUNDATIONS' for key 'tbl_classes.uc_norepeat'\") [cursors.py:170]\n",
      "Warning: (1062, \"Duplicate entry '120-PHIL-INTRO TO LOGIC' for key 'tbl_classes.uc_norepeat'\") [cursors.py:170]\n",
      "Warning: (1062, \"Duplicate entry '430-CLAS-GRK & ROM MYTHOLOGY' for key 'tbl_classes.uc_norepeat'\") [cursors.py:170]\n",
      "Warning: (1062, \"Duplicate entry '126-MATH-CALC ANYL GEOM III' for key 'tbl_classes.uc_norepeat'\") [cursors.py:170]\n",
      "Warning: (1062, \"Duplicate entry '335-PHIL-PLATO'S REPUBLIC' for key 'tbl_classes.uc_norepeat'\") [cursors.py:170]\n",
      "Warning: (1062, \"Duplicate entry '308-MATH-MATRIX ALGEBRA' for key 'tbl_classes.uc_norepeat'\") [cursors.py:170]\n",
      "Warning: (1062, \"Duplicate entry '240-PHIL-W-INTRO TO ETHICS' for key 'tbl_classes.uc_norepeat'\") [cursors.py:170]\n",
      "Warning: (1062, \"Duplicate entry '200-JSIS-W-STATES & CAPITALISM' for key 'tbl_classes.uc_norepeat'\") [cursors.py:170]\n",
      "Warning: (1062, \"Duplicate entry '201-INFO-TECH FOUNDATIONS' for key 'tbl_classes.uc_norepeat'\") [cursors.py:170]\n",
      "Warning: (1062, \"Duplicate entry '322-PHIL-W-MODERN PHILOSOPHY' for key 'tbl_classes.uc_norepeat'\") [cursors.py:170]\n",
      "Warning: (1062, \"Duplicate entry '311-STAT-DL-ELEMNTS STAT METHOD' for key 'tbl_classes.uc_norepeat'\") [cursors.py:170]\n",
      "Warning: (1062, \"Duplicate entry '406-PHIL-W-PHIL TOPICS IN FEM' for key 'tbl_classes.uc_norepeat'\") [cursors.py:170]\n",
      "Warning: (1062, \"Duplicate entry '143-CSE-COMPUTER PRGRMNG II' for key 'tbl_classes.uc_norepeat'\") [cursors.py:170]\n",
      "Warning: (1062, \"Duplicate entry '301-ECON-INTERMED MACRO-ECON' for key 'tbl_classes.uc_norepeat'\") [cursors.py:170]\n",
      "Warning: (1062, \"Duplicate entry '310-INFO-INFO ASSR & CYBRSEC' for key 'tbl_classes.uc_norepeat'\") [cursors.py:170]\n",
      "Warning: (1062, \"Duplicate entry '472-ECON-INTERNATIONAL MACRO' for key 'tbl_classes.uc_norepeat'\") [cursors.py:170]\n",
      "Warning: (1062, \"Duplicate entry '483-ECON-ECONOMETRIC APP' for key 'tbl_classes.uc_norepeat'\") [cursors.py:170]\n",
      "Warning: (1062, \"Duplicate entry '340-INFO-CLIENT-SIDE DEV' for key 'tbl_classes.uc_norepeat'\") [cursors.py:170]\n",
      "Warning: (1062, \"Duplicate entry '482-ECON-ECONOMETRIC THRY&PR' for key 'tbl_classes.uc_norepeat'\") [cursors.py:170]\n",
      "Warning: (1062, \"Duplicate entry '432-ENTRE-SOFTWARE ENTRPRNSHP' for key 'tbl_classes.uc_norepeat'\") [cursors.py:170]\n",
      "Warning: (1062, \"Duplicate entry '380-INFO-IS ANALYSIS & DSGN' for key 'tbl_classes.uc_norepeat'\") [cursors.py:170]\n",
      "Warning: (1062, \"Duplicate entry '352-AMATH-LINR ALG & NUM ANLY' for key 'tbl_classes.uc_norepeat'\") [cursors.py:170]\n",
      "Warning: (1062, \"Duplicate entry '373-CSE-DATA STRUC/ALGORITH' for key 'tbl_classes.uc_norepeat'\") [cursors.py:170]\n",
      "Warning: (1062, \"Duplicate entry '410-ECON-ECON OF NETWORKS' for key 'tbl_classes.uc_norepeat'\") [cursors.py:170]\n",
      "Warning: (1062, \"Duplicate entry '101-GREEK-INTRODUCTORY GREEK' for key 'tbl_classes.uc_norepeat'\") [cursors.py:170]\n",
      "Warning: (1062, \"Duplicate entry '464-ECON-W-FINANCIAL CRISIS' for key 'tbl_classes.uc_norepeat'\") [cursors.py:170]\n",
      "Warning: (1062, \"Duplicate entry '300-INFO-RESEARCH METHODS' for key 'tbl_classes.uc_norepeat'\") [cursors.py:170]\n",
      "Warning: (1062, \"Duplicate entry '330-INFO-DB & DATA MODELING' for key 'tbl_classes.uc_norepeat'\") [cursors.py:170]\n",
      "Warning: (1062, \"Duplicate entry '499-INFO-IND STUDY' for key 'tbl_classes.uc_norepeat'\") [cursors.py:170]\n",
      "Warning: (1062, \"Duplicate entry '425-ECON-TPCS MONETARY ECON' for key 'tbl_classes.uc_norepeat'\") [cursors.py:170]\n",
      "Warning: (1062, \"Duplicate entry '149-PHIL-EXISTENTIALISM&FILM' for key 'tbl_classes.uc_norepeat'\") [cursors.py:170]\n",
      "Warning: (1062, \"Duplicate entry '360-INFO-DESIGN METHODS' for key 'tbl_classes.uc_norepeat'\") [cursors.py:170]\n"
     ]
    }
   ],
   "source": [
    "commitData(data, studentID)"
   ]
  },
  {
   "cell_type": "code",
   "execution_count": null,
   "metadata": {},
   "outputs": [],
   "source": []
  }
 ],
 "metadata": {
  "kernelspec": {
   "display_name": "Python 3",
   "language": "python",
   "name": "python3"
  },
  "language_info": {
   "codemirror_mode": {
    "name": "ipython",
    "version": 3
   },
   "file_extension": ".py",
   "mimetype": "text/x-python",
   "name": "python",
   "nbconvert_exporter": "python",
   "pygments_lexer": "ipython3",
   "version": "3.6.1"
  }
 },
 "nbformat": 4,
 "nbformat_minor": 4
}
